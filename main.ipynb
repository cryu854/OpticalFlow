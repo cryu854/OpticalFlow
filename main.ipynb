{
  "nbformat": 4,
  "nbformat_minor": 0,
  "metadata": {
    "colab": {
      "name": "「OpticalFlow.ipynb」的副本",
      "provenance": [],
      "collapsed_sections": [],
      "toc_visible": true
    },
    "kernelspec": {
      "name": "python3",
      "display_name": "Python 3"
    },
    "accelerator": "GPU"
  },
  "cells": [
    {
      "cell_type": "code",
      "metadata": {
        "id": "UJqSwonxwwyc"
      },
      "source": [
        "!nvcc --version\r\n",
        "!nvidia-smi"
      ],
      "execution_count": null,
      "outputs": []
    },
    {
      "cell_type": "code",
      "metadata": {
        "id": "SLKb9RqtaN-H"
      },
      "source": [
        "!git clone https://github.com/cryu854/OpticalFlow\r\n",
        "\r\n",
        "# Install packages\r\n",
        "!pip install torch==1.0.0 torchvision==0.2.2 -f https://download.pytorch.org/whl/cu100/torch_stable.html\r\n",
        "!pip install pypng\r\n",
        "!pip install tensorboardx\r\n",
        "!pip install setproctitle colorama scipy==1.1.0\r\n",
        "!pip install flowiz -U"
      ],
      "execution_count": null,
      "outputs": []
    },
    {
      "cell_type": "markdown",
      "metadata": {
        "id": "LjKlpxL2alGe"
      },
      "source": [
        "# FlowNet 2\r\n",
        "Utilize the repo of dancelogue/flownet2-pytorch (https://github.com/dancelogue/flownet2-pytorch)"
      ]
    },
    {
      "cell_type": "code",
      "metadata": {
        "id": "rIjWfN1yWTvi"
      },
      "source": [
        "# Clone the repo of dancelogue/flownet2-pytorch and make use of some useful scripts.\r\n",
        "!git clone https://github.com/dancelogue/flownet2-pytorch.git\r\n",
        "import os\r\n",
        "os.chdir('./flownet2-pytorch')"
      ],
      "execution_count": null,
      "outputs": []
    },
    {
      "cell_type": "code",
      "metadata": {
        "id": "EEZcnCE-ZItf"
      },
      "source": [
        "# Download the checkpoint of flownet2 to checkploints dir and dancelogue/sintel dataset to datasets dir\r\n",
        "!bash ./scripts/download.sh"
      ],
      "execution_count": null,
      "outputs": []
    },
    {
      "cell_type": "code",
      "metadata": {
        "id": "1NxalkfSZ79j"
      },
      "source": [
        "# Install custom layers\r\n",
        "!bash install.sh"
      ],
      "execution_count": null,
      "outputs": []
    },
    {
      "cell_type": "code",
      "metadata": {
        "id": "LHHX_jN_XhOq"
      },
      "source": [
        "!python main.py --help"
      ],
      "execution_count": null,
      "outputs": []
    },
    {
      "cell_type": "code",
      "metadata": {
        "id": "AVj9-cyKaj2W"
      },
      "source": [
        "# Generate optical flow (MPI-Sintel) - Output flow files at ./datasets/sintel/output/inference/\r\n",
        "!python main.py --inference --model FlowNet2 --save_flow --inference_dataset MpiSintelClean --inference_dataset_root datasets/sintel/training --resume checkpoints/FlowNet2_checkpoint.pth.tar --save datasets/sintel/output"
      ],
      "execution_count": null,
      "outputs": []
    },
    {
      "cell_type": "code",
      "metadata": {
        "id": "p-Wg3OGReA9i"
      },
      "source": [
        "# Generate color code scheme (MPI-Sintel) - Output optical flow images/video at ./datasets/sintel/output/color_coding/\r\n",
        "!python -m flowiz datasets/sintel/output/inference/run.epoch-0-flow-field/*.flo -o datasets/sintel/output/color_coding -v datasets/sintel/output/color_coding/video -r 30"
      ],
      "execution_count": null,
      "outputs": []
    },
    {
      "cell_type": "code",
      "metadata": {
        "id": "CcGtO1Z55Iqo"
      },
      "source": [
        "# Visualize optical flow of output video\r\n",
        "from OpticalFlow.utils import visualize_image_on_colab, visualize_video_on_colab\r\n",
        "visualize_video_on_colab('./datasets/sintel/output/color_coding/video/000000.flo.mp4')"
      ],
      "execution_count": null,
      "outputs": []
    },
    {
      "cell_type": "markdown",
      "metadata": {
        "id": "8IzeuMx-Fwjh"
      },
      "source": [
        "#Farneback Optical Flow\r\n",
        "This cell demonstrates Farneback optical flow calculation."
      ]
    },
    {
      "cell_type": "code",
      "metadata": {
        "id": "iK6qnkPM5MvA"
      },
      "source": [
        "# Generate color code scheme (MPI-Sintel/clean/alley_1)\r\n",
        "from OpticalFlow.Farneback import fb_from_image, fb_from_video\r\n",
        "\r\n",
        "fb_from_image('./datasets/sintel/training/clean/alley_1')\r\n",
        "\r\n",
        "visualize_image_on_colab('./fb_results/')"
      ],
      "execution_count": null,
      "outputs": []
    },
    {
      "cell_type": "markdown",
      "metadata": {
        "id": "ciDSZk3cGLP9"
      },
      "source": [
        "#Lucas-Kanade Optical Flow\r\n",
        "This cell demonstrates Lucas-Kanade optical flow calculation."
      ]
    },
    {
      "cell_type": "code",
      "metadata": {
        "id": "uXCLkAhX5o0s"
      },
      "source": [
        "# Generate color code scheme (MPI-Sintel/clean/alley_1)\r\n",
        "from OpticalFlow.LucasKanade import lk_from_image, lk_from_video\r\n",
        "\r\n",
        "lk_from_image('./datasets/sintel/training/clean/alley_1')\r\n",
        "\r\n",
        "visualize_image_on_colab('./lk_results')"
      ],
      "execution_count": null,
      "outputs": []
    },
    {
      "cell_type": "markdown",
      "metadata": {
        "id": "gt5hUO_gGjZO"
      },
      "source": [
        "#Horn-Schunck Optical Flow\r\n",
        "This cell demonstrates Horn-Schunck optical flow calculation.\r\n"
      ]
    },
    {
      "cell_type": "code",
      "metadata": {
        "id": "mzXCYZGl5pQz"
      },
      "source": [
        "# Generate color code scheme (MPI-Sintel/clean/alley_1)\r\n",
        "from OpticalFlow.HornSchunck import hs_from_image, hs_from_video\r\n",
        "\r\n",
        "hs_from_image('./datasets/sintel/training/clean/alley_1')\r\n",
        "\r\n",
        "visualize_image_on_colab('./hs_results')"
      ],
      "execution_count": null,
      "outputs": []
    },
    {
      "cell_type": "markdown",
      "metadata": {
        "id": "lF3gqR__pWLJ"
      },
      "source": [
        "# Inference dancelogue using FlowNet 2"
      ]
    },
    {
      "cell_type": "code",
      "metadata": {
        "id": "vJd0KerspuIs"
      },
      "source": [
        "# Generate frames (dancelogue)\r\n",
        "!ffmpeg -i datasets/dancelogue/sample-video.mp4 datasets/dancelogue/frames/output_%02d.png"
      ],
      "execution_count": null,
      "outputs": []
    },
    {
      "cell_type": "code",
      "metadata": {
        "id": "ry_6Iu8PpuLg"
      },
      "source": [
        "# Generate optical flow (dancelogue)\r\n",
        "!python main.py --inference --model FlowNet2 --save_flow --inference_dataset ImagesFromFolder --inference_dataset_root datasets/dancelogue/frames/ --resume checkpoints/FlowNet2_checkpoint.pth.tar --save datasets/dancelogue/output"
      ],
      "execution_count": null,
      "outputs": []
    },
    {
      "cell_type": "code",
      "metadata": {
        "id": "3ulky3z-puQH"
      },
      "source": [
        "#　Generate color code scheme (dancelogue)\r\n",
        "!python /flow2image/f2i.py datasets/dancelogue/output/inference/run.epoch-0-flow-field/*.flo -o datasets/dancelogue/output/color_coding -v -r 30"
      ],
      "execution_count": null,
      "outputs": []
    },
    {
      "cell_type": "markdown",
      "metadata": {
        "id": "dnZrmM2sCQqJ"
      },
      "source": [
        "# Colab utils"
      ]
    },
    {
      "cell_type": "code",
      "metadata": {
        "id": "erePzgn3CMCR"
      },
      "source": [
        "# Upload a file from local machine\r\n",
        "from google.colab import files\r\n",
        "uploaded = files.upload()"
      ],
      "execution_count": null,
      "outputs": []
    },
    {
      "cell_type": "code",
      "metadata": {
        "id": "wgmTQZ-ZCmNF"
      },
      "source": [
        "# Download a file to local machine\r\n",
        "from google.colab import files\r\n",
        "files.download('./datasets/output/color_coding/video/000000.flo.mp4')"
      ],
      "execution_count": null,
      "outputs": []
    }
  ]
}